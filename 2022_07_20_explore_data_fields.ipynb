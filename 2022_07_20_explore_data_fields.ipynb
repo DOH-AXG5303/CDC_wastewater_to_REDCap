{
 "cells": [
  {
   "cell_type": "code",
   "execution_count": 3,
   "id": "75517f03-4718-40ca-88d1-f908b10218bb",
   "metadata": {},
   "outputs": [],
   "source": [
    "import pandas as pd\n",
    "import sys\n",
    "import redcap\n",
    "from credentials import token_pid353\n",
    "from credentials import redcap_api_url\n",
    "sys.path.insert(0, '../toolbox/')\n",
    "from general_tools import compare_similar_dataframes"
   ]
  },
  {
   "cell_type": "markdown",
   "id": "a824773d-3f0b-4b08-999f-6051ef304a05",
   "metadata": {},
   "source": [
    "### Compare data fields in existing REDCap project and sample file and data dictionary"
   ]
  },
  {
   "cell_type": "code",
   "execution_count": 34,
   "id": "d835c5a3-6ce2-47a5-8e54-04b6b98f8bcf",
   "metadata": {},
   "outputs": [],
   "source": [
    "df_upload = pd.read_csv(\"DCIPHER_upload.csv\") #upload from redcap to dcipher\n",
    "df_dictionary = pd.read_csv(\"dcipher_data_dict_fields.csv\", header = None) #cdc provided data dictionary\n",
    "df_samplefile = pd.read_csv(\"CDC_DCIPHER_export_sample.csv\") #sample file from Breanna\n",
    "\n",
    "fields_upload = df_upload.columns\n",
    "fields_dictionary = df_dictionary.loc[:,0]\n",
    "fields_samplefile = df_samplefile.columns\n",
    "#fields_pid171"
   ]
  },
  {
   "cell_type": "code",
   "execution_count": 36,
   "id": "856196f2-343a-45ef-a400-b93ffa581b32",
   "metadata": {},
   "outputs": [
    {
     "name": "stdout",
     "output_type": "stream",
     "text": [
      "86\n",
      "True\n"
     ]
    }
   ],
   "source": [
    "# Is the data dictionary identical to fields being uploaded TO dcipher?\n",
    "print(len(set(fields_upload) & set(fields_dictionary)))\n",
    "print((set(fields_upload) == set(fields_dictionary)))"
   ]
  },
  {
   "cell_type": "code",
   "execution_count": 35,
   "id": "e0235813-d0a4-4b73-bb88-04d836b5dda7",
   "metadata": {},
   "outputs": [
    {
     "name": "stdout",
     "output_type": "stream",
     "text": [
      "86\n",
      "86\n",
      "94\n"
     ]
    }
   ],
   "source": [
    "#number of columns \n",
    "print(len(fields_upload))\n",
    "print(len(fields_dictionary))\n",
    "print(len(fields_samplefile))"
   ]
  },
  {
   "cell_type": "code",
   "execution_count": 42,
   "id": "86ae97c2-a170-42fb-ba17-f7c57a9b9a40",
   "metadata": {},
   "outputs": [
    {
     "name": "stdout",
     "output_type": "stream",
     "text": [
      "same length as fields from data dictionary, dcipher file has an additional 8 new fields\n"
     ]
    }
   ],
   "source": [
    "len((set(fields_samplefile) & set(fields_dictionary)))\n",
    "\n",
    "print(\"same length as fields from data dictionary, dcipher file has an additional 8 new fields\")"
   ]
  },
  {
   "cell_type": "code",
   "execution_count": 43,
   "id": "6b87ee02-803b-4b6c-9440-d2395fb4eb99",
   "metadata": {},
   "outputs": [
    {
     "data": {
      "text/plain": [
       "{'created_at',\n",
       " 'created_at_tz',\n",
       " 'dcipher_unique_id',\n",
       " 'flag_old_schema',\n",
       " 'jurisdiction_policy_rid',\n",
       " 'sample_first_reported',\n",
       " 'sample_first_reported_tz',\n",
       " 'source'}"
      ]
     },
     "execution_count": 43,
     "metadata": {},
     "output_type": "execute_result"
    }
   ],
   "source": [
    "extra_fields = set(fields_samplefile) - set(fields_dictionary)\n",
    "extra_fields"
   ]
  },
  {
   "cell_type": "markdown",
   "id": "813ca075-a6d1-4bfb-b972-04841a8f666c",
   "metadata": {},
   "source": [
    "# Convert DCIPHER long format to REDCap wide format for select fields"
   ]
  },
  {
   "cell_type": "code",
   "execution_count": null,
   "id": "9e736e53-61e6-4ac4-bff6-31fb50fddf41",
   "metadata": {},
   "outputs": [],
   "source": [
    "df_samplefile"
   ]
  },
  {
   "cell_type": "code",
   "execution_count": null,
   "id": "dc995094-0199-4c0b-a2ac-e67d0b25347a",
   "metadata": {},
   "outputs": [],
   "source": []
  },
  {
   "cell_type": "code",
   "execution_count": null,
   "id": "ee8c64f3-573d-443e-bb9b-cc0a70e2bf14",
   "metadata": {},
   "outputs": [],
   "source": []
  },
  {
   "cell_type": "code",
   "execution_count": null,
   "id": "43ab9c54-2ed7-4713-a5d7-cbaea0b264f4",
   "metadata": {},
   "outputs": [],
   "source": []
  },
  {
   "cell_type": "code",
   "execution_count": null,
   "id": "3e33e4a0-69b0-4f5c-a5e3-b4cb5e46899a",
   "metadata": {},
   "outputs": [],
   "source": []
  },
  {
   "cell_type": "markdown",
   "id": "2d60fa5a-6742-4fe6-a01d-a7c4ba8821a3",
   "metadata": {},
   "source": [
    "### How many DCIPHER fields come from REDCap PID171?"
   ]
  },
  {
   "cell_type": "code",
   "execution_count": 2,
   "id": "ce262aa0-ccc6-415e-84ba-4b92bf9ab277",
   "metadata": {},
   "outputs": [],
   "source": [
    "#redcap fields\n",
    "project = redcap.Project(url = redcap_api_url, token=token_pid353)\n",
    "df_redcap = project.export_records(format_type = \"df\")\n",
    "redcap_fields = df_redcap.columns"
   ]
  },
  {
   "cell_type": "code",
   "execution_count": 11,
   "id": "dd44ecfe-2003-4f0d-b059-38aeed367ed1",
   "metadata": {},
   "outputs": [
    {
     "name": "stdout",
     "output_type": "stream",
     "text": [
      "REDCap Fields: 97\n",
      "DCIPHER Fields from sample file: 94\n"
     ]
    }
   ],
   "source": [
    "#how many fields in each dataset?\n",
    "print(f\"REDCap Fields: {len(redcap_fields)}\")\n",
    "print(f\"DCIPHER Fields from sample file: {len(dcipher_fields)}\")"
   ]
  },
  {
   "cell_type": "code",
   "execution_count": 5,
   "id": "577e8e84-306b-4a88-96fb-85e70df2fc28",
   "metadata": {},
   "outputs": [
    {
     "name": "stdout",
     "output_type": "stream",
     "text": [
      "Fields in common: 33\n"
     ]
    }
   ],
   "source": [
    "#how many fields in common? \n",
    "in_common = set(redcap_fields) & set(dcipher_fields)\n",
    "print(f\"Fields in common: {len(in_common)}\")"
   ]
  },
  {
   "cell_type": "code",
   "execution_count": 10,
   "id": "712bfbba-40a0-4eb9-8f8b-efca823332e4",
   "metadata": {},
   "outputs": [
    {
     "name": "stdout",
     "output_type": "stream",
     "text": [
      "86\n"
     ]
    }
   ],
   "source": [
    "# the dcipher columns from previous transform project\n",
    "from credentials import dcipher_clms\n",
    "print(len(dcipher_clms))"
   ]
  },
  {
   "cell_type": "code",
   "execution_count": 7,
   "id": "b0f12860-dc61-4418-bdc2-96b49c1b0313",
   "metadata": {},
   "outputs": [
    {
     "name": "stdout",
     "output_type": "stream",
     "text": [
      "Fields in common: 33\n"
     ]
    }
   ],
   "source": [
    "in_common_historic = set(redcap_fields) & set(dcipher_clms)\n",
    "print(f\"Fields in common: {len(in_common_historic)}\")"
   ]
  },
  {
   "cell_type": "code",
   "execution_count": null,
   "id": "65cd5e60-9762-4b23-a0f3-57c9b3e3175c",
   "metadata": {},
   "outputs": [],
   "source": []
  }
 ],
 "metadata": {
  "kernelspec": {
   "display_name": "Python [conda env:transform22] *",
   "language": "python",
   "name": "conda-env-transform22-py"
  },
  "language_info": {
   "codemirror_mode": {
    "name": "ipython",
    "version": 3
   },
   "file_extension": ".py",
   "mimetype": "text/x-python",
   "name": "python",
   "nbconvert_exporter": "python",
   "pygments_lexer": "ipython3",
   "version": "3.9.12"
  }
 },
 "nbformat": 4,
 "nbformat_minor": 5
}
