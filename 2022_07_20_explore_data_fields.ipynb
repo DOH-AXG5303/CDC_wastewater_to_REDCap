{
 "cells": [
  {
   "cell_type": "code",
   "execution_count": 1,
   "id": "75517f03-4718-40ca-88d1-f908b10218bb",
   "metadata": {},
   "outputs": [],
   "source": [
    "import pandas as pd\n",
    "import sys\n",
    "import redcap\n",
    "from credentials import token_pid353\n",
    "from credentials import redcap_api_url\n",
    "sys.path.insert(0, '../toolbox/')\n",
    "from general_tools import compare_similar_dataframes"
   ]
  },
  {
   "cell_type": "markdown",
   "id": "a824773d-3f0b-4b08-999f-6051ef304a05",
   "metadata": {},
   "source": [
    "### Compare data fields in existing REDCap project and sample file and data dictionary"
   ]
  },
  {
   "cell_type": "code",
   "execution_count": 2,
   "id": "d835c5a3-6ce2-47a5-8e54-04b6b98f8bcf",
   "metadata": {},
   "outputs": [],
   "source": [
    "df_upload = pd.read_csv(\"DCIPHER_upload.csv\") #upload from redcap to dcipher\n",
    "df_dictionary = pd.read_csv(\"dcipher_data_dict_fields.csv\", header = None) #cdc provided data dictionary\n",
    "df_samplefile = pd.read_csv(\"CDC_DCIPHER_export_sample.csv\") #sample file from Breanna\n",
    "\n",
    "fields_upload = df_upload.columns\n",
    "fields_dictionary = df_dictionary.loc[:,0]\n",
    "fields_samplefile = df_samplefile.columns\n",
    "#fields_pid171"
   ]
  },
  {
   "cell_type": "code",
   "execution_count": 3,
   "id": "856196f2-343a-45ef-a400-b93ffa581b32",
   "metadata": {},
   "outputs": [
    {
     "name": "stdout",
     "output_type": "stream",
     "text": [
      "86\n",
      "True\n"
     ]
    }
   ],
   "source": [
    "# Is the data dictionary identical to fields being uploaded TO dcipher?\n",
    "print(len(set(fields_upload) & set(fields_dictionary)))\n",
    "print((set(fields_upload) == set(fields_dictionary)))"
   ]
  },
  {
   "cell_type": "code",
   "execution_count": 4,
   "id": "e0235813-d0a4-4b73-bb88-04d836b5dda7",
   "metadata": {},
   "outputs": [
    {
     "name": "stdout",
     "output_type": "stream",
     "text": [
      "86\n",
      "86\n",
      "94\n"
     ]
    }
   ],
   "source": [
    "#number of columns \n",
    "print(len(fields_upload))\n",
    "print(len(fields_dictionary))\n",
    "print(len(fields_samplefile))"
   ]
  },
  {
   "cell_type": "code",
   "execution_count": 5,
   "id": "86ae97c2-a170-42fb-ba17-f7c57a9b9a40",
   "metadata": {},
   "outputs": [
    {
     "data": {
      "text/plain": [
       "86"
      ]
     },
     "execution_count": 5,
     "metadata": {},
     "output_type": "execute_result"
    }
   ],
   "source": [
    "# same length as fields from data dictionary, dcipher file has an additional 8 new fields\n",
    "len((set(fields_samplefile) & set(fields_dictionary)))"
   ]
  },
  {
   "cell_type": "code",
   "execution_count": 6,
   "id": "6b87ee02-803b-4b6c-9440-d2395fb4eb99",
   "metadata": {},
   "outputs": [
    {
     "data": {
      "text/plain": [
       "{'created_at',\n",
       " 'created_at_tz',\n",
       " 'dcipher_unique_id',\n",
       " 'flag_old_schema',\n",
       " 'jurisdiction_policy_rid',\n",
       " 'sample_first_reported',\n",
       " 'sample_first_reported_tz',\n",
       " 'source'}"
      ]
     },
     "execution_count": 6,
     "metadata": {},
     "output_type": "execute_result"
    }
   ],
   "source": [
    "extra_fields = set(fields_samplefile) - set(fields_dictionary)\n",
    "extra_fields"
   ]
  },
  {
   "cell_type": "markdown",
   "id": "06eda8d3-743b-4882-bd83-1a191849eb39",
   "metadata": {},
   "source": [
    "# Convert DCIPHER long format to REDCap wide format for select fields\n"
   ]
  },
  {
   "cell_type": "code",
   "execution_count": null,
   "id": "0e2b8f55-256f-4ea5-9803-e96799228585",
   "metadata": {},
   "outputs": [],
   "source": []
  },
  {
   "cell_type": "code",
   "execution_count": null,
   "id": "0844f348-d312-417f-9a98-a89f64fab3cf",
   "metadata": {},
   "outputs": [],
   "source": []
  },
  {
   "cell_type": "code",
   "execution_count": null,
   "id": "3bbac701-5b01-4c4a-ab13-0e4ef8eb018f",
   "metadata": {},
   "outputs": [],
   "source": []
  },
  {
   "cell_type": "code",
   "execution_count": null,
   "id": "bd5f50a8-9484-43a3-8fa2-f279a262112d",
   "metadata": {},
   "outputs": [],
   "source": []
  },
  {
   "cell_type": "code",
   "execution_count": null,
   "id": "bac0ec67-1274-4c2d-a8c0-dc32aea8454e",
   "metadata": {},
   "outputs": [],
   "source": []
  },
  {
   "cell_type": "markdown",
   "id": "689920ec-0e83-4b91-985d-c5c688a69a24",
   "metadata": {},
   "source": [
    "# How many unique CDC samples are there?"
   ]
  },
  {
   "cell_type": "code",
   "execution_count": 7,
   "id": "8b8098e5-0626-4bfc-9154-e167b179ae02",
   "metadata": {},
   "outputs": [],
   "source": [
    "redcap_sample_ids = df_upload[\"sample_id\"].astype(\"str\")"
   ]
  },
  {
   "cell_type": "code",
   "execution_count": 8,
   "id": "00b26e6c-3bd5-4da2-bac1-3974eb1d39bd",
   "metadata": {},
   "outputs": [],
   "source": [
    "cdc_unique = df_samplefile[~df_samplefile[\"sample_id\"].isin(redcap_sample_ids)][\"sample_id\"].unique()"
   ]
  },
  {
   "cell_type": "code",
   "execution_count": 9,
   "id": "2602c2e6-a60f-4d1d-ae9d-c61933616571",
   "metadata": {},
   "outputs": [
    {
     "data": {
      "text/plain": [
       "390"
      ]
     },
     "execution_count": 9,
     "metadata": {},
     "output_type": "execute_result"
    }
   ],
   "source": [
    "len(cdc_unique)"
   ]
  },
  {
   "cell_type": "code",
   "execution_count": 23,
   "id": "5fdb3591-48e9-47dc-a1b5-fc91a50f67da",
   "metadata": {},
   "outputs": [],
   "source": [
    "dates = df_samplefile[df_samplefile[\"sample_id\"].isin(cdc_unique)]['sample_collect_date']\n",
    "dates = pd.to_datetime(dates)\n",
    "dates = dates.sort_values()\n",
    "dates.reset_index(drop = True, inplace = True)"
   ]
  },
  {
   "cell_type": "code",
   "execution_count": 26,
   "id": "f8d86ed3-68a0-41c4-990b-592930f1169b",
   "metadata": {},
   "outputs": [],
   "source": [
    "total_counts = pd.Series(np.arange(0,1036))"
   ]
  },
  {
   "cell_type": "code",
   "execution_count": 28,
   "id": "ff26976c-95d9-452b-9142-3a2e5d50f096",
   "metadata": {},
   "outputs": [],
   "source": [
    "df_cdc_dates = pd.concat([dates, total_counts], axis = 1)"
   ]
  },
  {
   "cell_type": "code",
   "execution_count": 30,
   "id": "3393db78-a91f-4655-bba7-38fe700f4b4c",
   "metadata": {},
   "outputs": [],
   "source": [
    "df_cdc_dates.set_index(\"sample_collect_date\", inplace = True)"
   ]
  },
  {
   "cell_type": "code",
   "execution_count": 31,
   "id": "9772c521-154c-4c5c-817a-dd48abf4c87e",
   "metadata": {},
   "outputs": [
    {
     "data": {
      "text/plain": [
       "<AxesSubplot:xlabel='sample_collect_date'>"
      ]
     },
     "execution_count": 31,
     "metadata": {},
     "output_type": "execute_result"
    },
    {
     "data": {
      "image/png": "[encoded data removed]",
      "text/plain": [
       "<Figure size 432x288 with 1 Axes>"
      ]
     },
     "metadata": {
      "needs_background": "light"
     },
     "output_type": "display_data"
    }
   ],
   "source": [
    "df_cdc_dates.plot()"
   ]
  },
  {
   "cell_type": "code",
   "execution_count": null,
   "id": "ab0ca22b-f56d-47bc-ad2c-8e00a56253e0",
   "metadata": {},
   "outputs": [],
   "source": [
    "df_cdc_dates"
   ]
  },
  {
   "cell_type": "code",
   "execution_count": null,
   "id": "77e61170-2cd7-43d6-9842-26044a7cdef2",
   "metadata": {},
   "outputs": [],
   "source": []
  },
  {
   "cell_type": "markdown",
   "id": "813ca075-a6d1-4bfb-b972-04841a8f666c",
   "metadata": {},
   "source": []
  },
  {
   "cell_type": "code",
   "execution_count": null,
   "id": "43ab9c54-2ed7-4713-a5d7-cbaea0b264f4",
   "metadata": {},
   "outputs": [],
   "source": []
  },
  {
   "cell_type": "code",
   "execution_count": null,
   "id": "3e33e4a0-69b0-4f5c-a5e3-b4cb5e46899a",
   "metadata": {},
   "outputs": [],
   "source": []
  },
  {
   "cell_type": "markdown",
   "id": "2d60fa5a-6742-4fe6-a01d-a7c4ba8821a3",
   "metadata": {},
   "source": [
    "### How many DCIPHER fields come from REDCap PID171?"
   ]
  },
  {
   "cell_type": "code",
   "execution_count": null,
   "id": "ce262aa0-ccc6-415e-84ba-4b92bf9ab277",
   "metadata": {},
   "outputs": [],
   "source": [
    "#redcap fields\n",
    "project = redcap.Project(url = redcap_api_url, token=token_pid353)\n",
    "df_redcap = project.export_records(format_type = \"df\")\n",
    "redcap_fields = df_redcap.columns"
   ]
  },
  {
   "cell_type": "code",
   "execution_count": null,
   "id": "891a750b-e085-40d6-ae8e-4aa041436511",
   "metadata": {},
   "outputs": [],
   "source": []
  },
  {
   "cell_type": "code",
   "execution_count": null,
   "id": "dd44ecfe-2003-4f0d-b059-38aeed367ed1",
   "metadata": {},
   "outputs": [],
   "source": [
    "#how many fields in each dataset?\n",
    "print(f\"REDCap Fields: {len(redcap_fields)}\")\n",
    "print(f\"DCIPHER Fields from sample file: {len(fields_samplefile)}\")"
   ]
  },
  {
   "cell_type": "code",
   "execution_count": null,
   "id": "577e8e84-306b-4a88-96fb-85e70df2fc28",
   "metadata": {},
   "outputs": [],
   "source": [
    "#how many fields in common? \n",
    "in_common = set(redcap_fields) & set(fields_samplefile)\n",
    "print(f\"Fields in common: {len(in_common)}\")"
   ]
  },
  {
   "cell_type": "code",
   "execution_count": null,
   "id": "712bfbba-40a0-4eb9-8f8b-efca823332e4",
   "metadata": {},
   "outputs": [],
   "source": [
    "# the dcipher columns from previous transform project\n",
    "from credentials import dcipher_clms\n",
    "print(len(dcipher_clms))"
   ]
  },
  {
   "cell_type": "code",
   "execution_count": null,
   "id": "b0f12860-dc61-4418-bdc2-96b49c1b0313",
   "metadata": {},
   "outputs": [],
   "source": [
    "in_common_historic = set(redcap_fields) & set(dcipher_clms)\n",
    "print(f\"Fields in common: {len(in_common_historic)}\")"
   ]
  },
  {
   "cell_type": "code",
   "execution_count": null,
   "id": "65cd5e60-9762-4b23-a0f3-57c9b3e3175c",
   "metadata": {},
   "outputs": [],
   "source": [
    "in_common"
   ]
  },
  {
   "cell_type": "code",
   "execution_count": null,
   "id": "449b292f-58a6-4572-8b39-32b8f210946c",
   "metadata": {},
   "outputs": [],
   "source": [
    "[i for i in fields_samplefile]"
   ]
  },
  {
   "cell_type": "code",
   "execution_count": null,
   "id": "f9ab97d3-4d57-40b0-bb7f-2b1d640c850e",
   "metadata": {},
   "outputs": [],
   "source": [
    "df_samplefile[[\n",
    "    'sample_id',\n",
    "    'lab_id',\n",
    "    \"source\",\n",
    "    'sample_location',\n",
    "     'sample_location_specify',\n",
    "     'institution_type',\n",
    "     'epaid',\n",
    "     'wwtp_name',\n",
    "     'wwtp_jurisdiction']]"
   ]
  },
  {
   "cell_type": "code",
   "execution_count": null,
   "id": "955dbf40-335b-4b09-95de-e5fc641e407e",
   "metadata": {},
   "outputs": [],
   "source": [
    "df_samplefile[df_samplefile[\"sample_id\"] == \"20001\"]"
   ]
  },
  {
   "cell_type": "code",
   "execution_count": null,
   "id": "5d9e71f4-7523-42a6-a208-893e122c6ecf",
   "metadata": {},
   "outputs": [],
   "source": [
    "df_samplefile[\"sample_id\"].unique()"
   ]
  },
  {
   "cell_type": "code",
   "execution_count": null,
   "id": "c716cf35-bd8a-413c-8878-6ca25f8a3c7a",
   "metadata": {},
   "outputs": [],
   "source": []
  }
 ],
 "metadata": {
  "kernelspec": {
   "display_name": "Python [conda env:transform22] *",
   "language": "python",
   "name": "conda-env-transform22-py"
  },
  "language_info": {
   "codemirror_mode": {
    "name": "ipython",
    "version": 3
   },
   "file_extension": ".py",
   "mimetype": "text/x-python",
   "name": "python",
   "nbconvert_exporter": "python",
   "pygments_lexer": "ipython3",
   "version": "3.9.12"
  }
 },
 "nbformat": 4,
 "nbformat_minor": 5
}
