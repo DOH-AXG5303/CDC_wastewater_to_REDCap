{
 "cells": [
  {
   "cell_type": "code",
   "execution_count": 1,
   "id": "b6b64d8b-b289-4458-b703-4da4ca99f9ca",
   "metadata": {},
   "outputs": [],
   "source": [
    "import pandas as pd\n",
    "import redcap\n",
    "import requests\n",
    "import io\n",
    "import sys\n",
    "from credentials import token_pid353\n",
    "from credentials import redcap_api_url\n",
    "sys.path.insert(0, '../toolbox/')\n",
    "from general_tools import compare_similar_dataframes"
   ]
  },
  {
   "cell_type": "code",
   "execution_count": 2,
   "id": "7bf7fb7c-16f6-4d03-9db5-ee33b199a89c",
   "metadata": {},
   "outputs": [],
   "source": [
    "def redcap_API_export(url,token):\n",
    "    \"\"\"\n",
    "    all data API request\n",
    "    \"\"\"\n",
    "\n",
    "    fields = {\n",
    "        'token': token,\n",
    "        'content': 'record',\n",
    "        'format': 'csv',\n",
    "        'type': 'flat'}\n",
    "\n",
    "    r = requests.post(url, data=fields)\n",
    "    \n",
    "    df = pd.read_csv(io.StringIO(r.content.decode(\"utf-8\")), index_col=0)\n",
    "\n",
    "    return df\n",
    "\n",
    "def wide_to_long(df_pid171):\n",
    "    \"\"\"\n",
    "    REDCap PID171 is in wide format with unique sample ID's and PCR_target of n1 and n2 containing fields sars_cov2_below_lod (n1 and n2) and sars_cov2_avg_conc (n1 and n2).\n",
    "\n",
    "    Transform long format: repeat sample ID's for n1 target and n2 target (PCR_target field). Single column of sars_cov2_below_lod and sars_cov2_avg_conc.\n",
    "\n",
    "    \"\"\"\n",
    "    df_pid171 = df_pid171.reset_index().copy()\n",
    "\n",
    "    #identify columns to melt, and all the rest\n",
    "    melt_clms = ['n1_sars_cov2_avg_conc', 'n2_sars_cov2_avg_conc', 'n1_sars_cov2_below_lod', 'n2_sars_cov2_below_lod']\n",
    "    not_melt_clms = df_pid171.columns[~df_pid171.columns.isin(melt_clms)]\n",
    "\n",
    "    #perform melt for avg_conc and keep all other columns\n",
    "    df_melt_conc = pd.melt(df_pid171, value_vars = ['n1_sars_cov2_avg_conc', 'n2_sars_cov2_avg_conc'], var_name = \"pcr_target\", value_name = 'sars_cov2_avg_conc', id_vars = not_melt_clms )\n",
    "    #perform melt for below_lod and only keep the value column (below_lod)\n",
    "    df_melt_lod = pd.melt(df_pid171, value_vars = ['n1_sars_cov2_below_lod', 'n2_sars_cov2_below_lod'], var_name = \"pcr_target\", value_name = 'sars_cov2_below_lod', id_vars = [\"sample_id\"] )\n",
    "\n",
    "    #change the PCR_target column to only first 2 letters (n1 or n2)\n",
    "    df_melt_lod[\"pcr_target\"] = df_melt_lod[\"pcr_target\"].str[0:2]\n",
    "    df_melt_conc[\"pcr_target\"] = df_melt_lod[\"pcr_target\"].str[0:2]\n",
    "\n",
    "    #merge the dataframes together\n",
    "    df_pid171 = pd.merge(df_melt_conc, df_melt_lod, how = \"inner\", left_on = [\"sample_id\", \"pcr_target\"], right_on = [\"sample_id\", \"pcr_target\"])\n",
    "\n",
    "    return df_pid171"
   ]
  },
  {
   "cell_type": "markdown",
   "id": "3a39ac5f-a9d8-41c8-9218-3129a3b509e4",
   "metadata": {},
   "source": [
    "### compare dataframes from native API export and pycap export\n"
   ]
  },
  {
   "cell_type": "code",
   "execution_count": 7,
   "id": "976af5ea-1dfc-41cd-a74c-a181c1390ea8",
   "metadata": {},
   "outputs": [],
   "source": [
    "token_pid171 = \"AB21CE90EF475E08AC11F92105A39690\"\n",
    "redcap_api_url = 'https://redcap.doh.wa.gov/api/'\n",
    "\n",
    "#Native API\n",
    "df_pid171 = redcap_API_export(redcap_api_url, token_pid171)\n",
    "\n",
    "#PyCap\n",
    "project = redcap.Project(url = redcap_api_url, token = token_pid171)\n",
    "df_pid171_v2 = project.export_records(format_type = \"df\")"
   ]
  },
  {
   "cell_type": "code",
   "execution_count": 9,
   "id": "f0481cee-49c9-4ffa-b8e4-0826ee80e4b3",
   "metadata": {},
   "outputs": [],
   "source": [
    "pd.testing.assert_frame_equal(df_pid171, df_pid171_v2)"
   ]
  },
  {
   "cell_type": "code",
   "execution_count": 8,
   "id": "1493cc1a-9ec1-480f-88f5-ea01227bc55b",
   "metadata": {},
   "outputs": [
    {
     "name": "stdout",
     "output_type": "stream",
     "text": [
      "The shapes of Dataframe1 and Dataframe2 are identical: (857, 97)\n",
      "\n",
      "The columns of Dataframe1 and Dataframe2 are identical, congrats!\n",
      "\n",
      "The two dataframes are an exact match, congrats!\n"
     ]
    }
   ],
   "source": [
    "unequal = compare_similar_dataframes(df_pid171, df_pid171_v2)"
   ]
  },
  {
   "cell_type": "markdown",
   "id": "de2659b5-b6fd-4bfd-8908-fe0d0ad0276d",
   "metadata": {},
   "source": [
    "### Version1 of Wide-to-long transform:"
   ]
  },
  {
   "cell_type": "code",
   "execution_count": 3,
   "id": "4e91ddf8-ae7e-4124-8d6a-d958a5accccf",
   "metadata": {},
   "outputs": [],
   "source": [
    "df_pid171 = redcap_API_export('https://redcap.doh.wa.gov/api/', \"AB21CE90EF475E08AC11F92105A39690\")\n",
    "\n",
    "df_pid171 = wide_to_long(df_pid171)"
   ]
  },
  {
   "cell_type": "markdown",
   "id": "caa84a85-4946-4ac4-becb-10e5f6650845",
   "metadata": {},
   "source": [
    "### Version2 of Wide-to-long transform:"
   ]
  },
  {
   "cell_type": "code",
   "execution_count": null,
   "id": "d7018c75-5522-4d8d-a33b-337bc8085c9b",
   "metadata": {},
   "outputs": [],
   "source": [
    "token_pid171 = \"AB21CE90EF475E08AC11F92105A39690\"\n",
    "redcap_api_url = 'https://redcap.doh.wa.gov/api/'\n",
    "project = redcap.Project(url = redcap_api_url, token = token_pid171)\n",
    "df_pid171_v2 = project.export_records(format_type = \"df\")"
   ]
  },
  {
   "cell_type": "code",
   "execution_count": 4,
   "id": "ab0170a8-6268-463a-a095-50fd80384e19",
   "metadata": {},
   "outputs": [],
   "source": [
    "df_pid171_v2 = redcap_API_export('https://redcap.doh.wa.gov/api/', \"AB21CE90EF475E08AC11F92105A39690\")"
   ]
  },
  {
   "cell_type": "code",
   "execution_count": 5,
   "id": "2c6e7af9-de62-4a76-bd55-abb3f2e9d9c1",
   "metadata": {},
   "outputs": [],
   "source": [
    "df_pid171_v2 = df_pid171_v2.reset_index().copy()\n",
    "\n",
    "df_conc_melt = df_pid171_v2.melt(id_vars = \"sample_id\", value_vars = ['n1_sars_cov2_avg_conc', 'n2_sars_cov2_avg_conc'], var_name = \"pcr_target\", value_name = 'sars_cov2_avg_conc')\n",
    "df_lod_melt = df_pid171_v2.melt(id_vars = \"sample_id\", value_vars = [ 'n1_sars_cov2_below_lod', 'n2_sars_cov2_below_lod'], var_name = \"pcr_target\", value_name = 'sars_cov2_below_lod' )\n",
    "\n",
    "df_conc_melt[\"pcr_target\"] = df_conc_melt[\"pcr_target\"].str[0:2]\n",
    "df_lod_melt[\"pcr_target\"] = df_lod_melt[\"pcr_target\"].str[0:2]\n",
    "\n",
    "\n",
    "df_melt = pd.merge(df_conc_melt, df_lod_melt, left_on = [\"sample_id\", \"pcr_target\"],\n",
    "                                             right_on = [\"sample_id\", \"pcr_target\"],\n",
    "                                             how = \"inner\")\n",
    "\n",
    "\n",
    "melt_clms = ['n1_sars_cov2_avg_conc', 'n2_sars_cov2_avg_conc', 'n1_sars_cov2_below_lod', 'n2_sars_cov2_below_lod']\n",
    "df_everything_else = df_pid171_v2[df_pid171_v2.columns[~df_pid171_v2.columns.isin(melt_clms)]]\n",
    "\n",
    "\n",
    "df_complete = pd.merge(df_melt, df_everything_else, left_on = \"sample_id\",\n",
    "                                                    right_on = \"sample_id\",\n",
    "                                                   how = \"left\")\n"
   ]
  },
  {
   "cell_type": "code",
   "execution_count": 6,
   "id": "f58cba1a-84b5-4fda-84a8-d0269fd72d62",
   "metadata": {},
   "outputs": [
    {
     "name": "stdout",
     "output_type": "stream",
     "text": [
      "The shapes of Dataframe1 and Dataframe2 are identical: (1714, 97)\n",
      "\n",
      "The columns of Dataframe1 and Dataframe2 are identical, congrats!\n",
      "\n",
      "The two dataframes are an exact match, congrats!\n"
     ]
    }
   ],
   "source": [
    "#df_complete = df_complete.reindex(sorted(df_columns), axis = 1)\n",
    "#df_pid171 = df_pid171.reindex(sorted(df_columns), axis = 1)\n",
    "\n",
    "missmatch = compare_similar_dataframes(df_complete, df_pid171)"
   ]
  },
  {
   "cell_type": "code",
   "execution_count": null,
   "id": "bb5bd023-4b74-42a1-b945-c59d645db78a",
   "metadata": {},
   "outputs": [],
   "source": [
    "in_common = set(df_complete.columns) & set(df_pid171.columns)\n",
    "\n",
    "in_common - set(missmatch)"
   ]
  },
  {
   "cell_type": "code",
   "execution_count": null,
   "id": "79e7adb8-f76e-4c0f-9241-05bf84e19d44",
   "metadata": {},
   "outputs": [],
   "source": [
    "len(missmatch)"
   ]
  },
  {
   "cell_type": "code",
   "execution_count": null,
   "id": "3e9ea52f-77a3-47ed-bd76-74139bdfe2d6",
   "metadata": {},
   "outputs": [],
   "source": [
    "df_complete[missmatch].dtypes == df_pid171[missmatch].dtypes"
   ]
  },
  {
   "cell_type": "code",
   "execution_count": null,
   "id": "d878caa8-9fbf-41c7-8336-2a838dc60029",
   "metadata": {},
   "outputs": [],
   "source": [
    "pd.testing.assert_series_equal(df_complete[\"cbod\"], df_pid171[\"cbod\"])"
   ]
  },
  {
   "cell_type": "markdown",
   "id": "6f83d2e5-3ec1-40d9-ba66-17bf60b005e6",
   "metadata": {},
   "source": [
    "### Discovery that column CBOD is modified from original during the long to wide transform"
   ]
  },
  {
   "cell_type": "markdown",
   "id": "973cc678-2568-48e9-b702-cfe43397eb05",
   "metadata": {},
   "source": [
    "# Appendix\n"
   ]
  },
  {
   "cell_type": "code",
   "execution_count": null,
   "id": "94abfad6-af5d-4d4a-b56f-bc363d4c482d",
   "metadata": {},
   "outputs": [],
   "source": []
  }
 ],
 "metadata": {
  "kernelspec": {
   "display_name": "Python [conda env:transform22] *",
   "language": "python",
   "name": "conda-env-transform22-py"
  },
  "language_info": {
   "codemirror_mode": {
    "name": "ipython",
    "version": 3
   },
   "file_extension": ".py",
   "mimetype": "text/x-python",
   "name": "python",
   "nbconvert_exporter": "python",
   "pygments_lexer": "ipython3",
   "version": "3.9.12"
  }
 },
 "nbformat": 4,
 "nbformat_minor": 5
}
