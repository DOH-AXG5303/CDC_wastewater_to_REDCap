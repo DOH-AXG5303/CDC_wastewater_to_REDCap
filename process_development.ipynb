{
 "cells": [
  {
   "cell_type": "code",
   "execution_count": 1,
   "id": "6a6d21f5-8541-4125-88d0-e27bac30d386",
   "metadata": {},
   "outputs": [],
   "source": [
    "# Import raw LIMS dataset\n",
    "%run -i -n \"DCIPHER_to_REDCap.py\""
   ]
  },
  {
   "cell_type": "code",
   "execution_count": 2,
   "id": "af488f16-1acc-4a68-a633-e1370b68d83b",
   "metadata": {},
   "outputs": [],
   "source": [
    "path = r\"Y:\\Confidential\\DCHS\\PHOCIS\\Surveillance\\COVID-19 Wastewater Surveillance\\DCIPHER_download\\to_redcap\"\n",
    "\n",
    "df = scan_directory(path)\n",
    "df = rename_columns(df)\n",
    "df = long_to_wide(df)\n",
    "\n",
    "df = map_values(df)\n",
    "df = change_dtypes(df)\n",
    "\n",
    "\n",
    "project = redcap.Project(url = redcap_api_url, token=token_pid353)\n",
    "df_redcap = project.export_records(format_type = \"df\")\n",
    "\n",
    "project.import_records(df, import_format = \"df\")"
   ]
  },
  {
   "cell_type": "markdown",
   "id": "70292019-3fd3-4961-8801-35c61c219616",
   "metadata": {},
   "source": [
    "# Next: \n",
    "- Create summaru of values in site ID fields that need to by synced to other projects in REDCap"
   ]
  },
  {
   "cell_type": "code",
   "execution_count": null,
   "id": "f11ad1a7-51ca-4b7a-bffe-7e66230acd4d",
   "metadata": {},
   "outputs": [],
   "source": []
  },
  {
   "cell_type": "code",
   "execution_count": null,
   "id": "5f9ab188-890a-41f3-a864-b6b0ad92426d",
   "metadata": {},
   "outputs": [],
   "source": [
    "\n"
   ]
  },
  {
   "cell_type": "code",
   "execution_count": null,
   "id": "d6dbb2db-590f-4afd-9e53-0367dc8702b9",
   "metadata": {},
   "outputs": [],
   "source": []
  }
 ],
 "metadata": {
  "kernelspec": {
   "display_name": "Python [conda env:transform22] *",
   "language": "python",
   "name": "conda-env-transform22-py"
  },
  "language_info": {
   "codemirror_mode": {
    "name": "ipython",
    "version": 3
   },
   "file_extension": ".py",
   "mimetype": "text/x-python",
   "name": "python",
   "nbconvert_exporter": "python",
   "pygments_lexer": "ipython3",
   "version": "3.9.12"
  }
 },
 "nbformat": 4,
 "nbformat_minor": 5
}
