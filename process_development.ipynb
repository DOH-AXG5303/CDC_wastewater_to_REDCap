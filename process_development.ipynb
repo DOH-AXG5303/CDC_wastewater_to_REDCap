{
 "cells": [
  {
   "cell_type": "code",
   "execution_count": 2,
   "id": "6a6d21f5-8541-4125-88d0-e27bac30d386",
   "metadata": {},
   "outputs": [],
   "source": [
    "# Import raw LIMS dataset\n",
    "%run -i -n \"DCIPHER_to_REDCap.py\""
   ]
  },
  {
   "cell_type": "code",
   "execution_count": 3,
   "id": "3942656a-4bf4-42d4-82b2-c45958b3f88f",
   "metadata": {},
   "outputs": [],
   "source": [
    "df_samplefile = pd.read_csv(\"CDC_DCIPHER_export_sample.csv\")\n",
    "\n",
    "df = rename_columns(df_samplefile)\n",
    "df = long_to_wide(df)"
   ]
  },
  {
   "cell_type": "code",
   "execution_count": 6,
   "id": "50fa6b00-abc4-4487-a27f-8ad0653fd0ad",
   "metadata": {},
   "outputs": [],
   "source": [
    "project = redcap.Project(url = redcap_api_url, token=token_pid353)\n",
    "df_redcap = project.export_records(format_type = \"df\")"
   ]
  },
  {
   "cell_type": "code",
   "execution_count": 10,
   "id": "b31677f5-b025-4cb9-85bb-8869635c4bd9",
   "metadata": {},
   "outputs": [],
   "source": [
    "test_import = df[['n1_sars_cov2_below_lod', 'n2_sars_cov2_below_lod','n1_sars_cov2_avg_conc', 'n2_sars_cov2_avg_conc']].copy()"
   ]
  },
  {
   "cell_type": "code",
   "execution_count": 14,
   "id": "15b31314-ecfc-4ffb-aa1e-e60def1e7fd0",
   "metadata": {},
   "outputs": [
    {
     "data": {
      "text/plain": [
       "{'count': 390}"
      ]
     },
     "execution_count": 14,
     "metadata": {},
     "output_type": "execute_result"
    }
   ],
   "source": [
    "project.import_records(test_import, import_format = \"df\")"
   ]
  },
  {
   "cell_type": "markdown",
   "id": "a1e7075b-eed7-4deb-adc9-6b894a284385",
   "metadata": {},
   "source": []
  }
 ],
 "metadata": {
  "kernelspec": {
   "display_name": "Python [conda env:transform22] *",
   "language": "python",
   "name": "conda-env-transform22-py"
  },
  "language_info": {
   "codemirror_mode": {
    "name": "ipython",
    "version": 3
   },
   "file_extension": ".py",
   "mimetype": "text/x-python",
   "name": "python",
   "nbconvert_exporter": "python",
   "pygments_lexer": "ipython3",
   "version": "3.9.12"
  }
 },
 "nbformat": 4,
 "nbformat_minor": 5
}
